{
 "cells": [
  {
   "cell_type": "code",
   "execution_count": 126,
   "id": "d7efe76f-1b47-4126-82b2-fd626783ff88",
   "metadata": {},
   "outputs": [],
   "source": [
    "import numpy as np\n",
    "import pandas as pd\n",
    "import os\n",
    "from matplotlib import pyplot as plt"
   ]
  },
  {
   "cell_type": "code",
   "execution_count": 127,
   "id": "9849d360-6e7b-413c-b7ea-5449de3cd0b0",
   "metadata": {},
   "outputs": [
    {
     "name": "stdout",
     "output_type": "stream",
     "text": [
      "C:\\Users\\ynrob\\ValNet PyTesting\n"
     ]
    }
   ],
   "source": [
    "print(os.getcwd())"
   ]
  },
  {
   "cell_type": "code",
   "execution_count": 128,
   "id": "33e27fca-204e-4e3c-8a73-18fb5b2c7073",
   "metadata": {},
   "outputs": [],
   "source": [
    "basePath = os.path.dirname(os.path.abspath(r'C:\\Users\\ynrob\\ValNet PyTesting\\temp.json'))"
   ]
  },
  {
   "cell_type": "code",
   "execution_count": 129,
   "id": "b9417077-c49d-499d-9be0-d5fd652f59a1",
   "metadata": {},
   "outputs": [
    {
     "name": "stdout",
     "output_type": "stream",
     "text": [
      "C:\\Users\\ynrob\\ValNet PyTesting\n"
     ]
    }
   ],
   "source": [
    "print(basePath)"
   ]
  },
  {
   "cell_type": "code",
   "execution_count": 130,
   "id": "67fba947-4297-4fbc-a9a8-a6182ac52800",
   "metadata": {},
   "outputs": [],
   "source": [
    "rdata = pd.read_json(r'C:\\Users\\ynrob\\ValNet PyTesting\\temp.json', orient='index')"
   ]
  },
  {
   "cell_type": "code",
   "execution_count": 134,
   "id": "e66e6408-a420-4c80-b28e-c2f7769af8fb",
   "metadata": {},
   "outputs": [],
   "source": [
    "refData = pd.DataFrame.from_dict(rdata)"
   ]
  },
  {
   "cell_type": "code",
   "execution_count": 11,
   "id": "c74c638d-9dc6-405d-880a-e5f2ca7c1e6a",
   "metadata": {},
   "outputs": [],
   "source": [
    "#Expects two bools, that states either each team won the match\n",
    "def checkWinner(redWon: bool, blueWon: bool) -> int:\n",
    "    if (redWon == blueWon): \n",
    "        return 2 \n",
    "    else:\n",
    "        return int(blueWon)\n",
    "#Returns an int, either 0, 1, or 2. Specifically, checks for a tie. If tied, returns 2, otherwise returns whether blue team won the match"
   ]
  },
  {
   "cell_type": "code",
   "execution_count": 13,
   "id": "1b5d679b-ae21-46eb-add6-22aa54f76e84",
   "metadata": {},
   "outputs": [],
   "source": [
    "#Takes a json table of a given match and outputs the winner\n",
    "def getMatchWinner(match: dict) -> int:\n",
    "    return checkWinner(match[\"matches\"][\"teams\"][0][\"won\"],\n",
    "                       match[\"matches\"][\"teams\"][1][\"won\"])"
   ]
  },
  {
   "cell_type": "code",
   "execution_count": 225,
   "id": "497123de-7aac-4318-8274-328152c4e007",
   "metadata": {},
   "outputs": [],
   "source": [
    "def winnerOneHot(win: int) -> np.array:\n",
    "    res = np.zeros(2, dtype=int)\n",
    "    if win == 1:\n",
    "        res[0] = 1\n",
    "    if win == 2:\n",
    "        res[1] = 1\n",
    "    return res"
   ]
  },
  {
   "cell_type": "code",
   "execution_count": 16,
   "id": "72c41fc4-8137-44e7-a8af-899ae8a3442a",
   "metadata": {},
   "outputs": [],
   "source": [
    "#Turns the map dict into a list\n",
    "def mapDictToList(dictOfMaps: dict) -> list:\n",
    "    #Gets the keys from the dict\n",
    "    mapKeys = list()\n",
    "    mapKeys.extend((dictOfMaps))\n",
    "    return mapKeys"
   ]
  },
  {
   "cell_type": "code",
   "execution_count": 119,
   "id": "56413360-bb08-41dd-a218-ce5d23293e87",
   "metadata": {},
   "outputs": [],
   "source": [
    "def getMaps(dataSet: dict) -> list:\n",
    "     #list of the maps and distribution\n",
    "    dictOfMaps = {}\n",
    "    \n",
    "    for e in range(dataSet.size):\n",
    "        if (dictOfMaps.get(dataSet[e][\"matches\"][\"matchInfo\"][\"mapId\"])) is None:\n",
    "            dictOfMaps.update({dataSet[e][\"matches\"][\"matchInfo\"][\"mapId\"] : 1})\n",
    "        else:\n",
    "            dictOfMaps.update({dataSet[e][\"matches\"][\"matchInfo\"][\"mapId\"] : dictOfMaps.get(dataSet[e][\"matches\"][\"matchInfo\"][\"mapId\"])+1})\n",
    "    mapKeys = mapDictToList(dictOfMaps)\n",
    "    return mapKeys"
   ]
  },
  {
   "cell_type": "code",
   "execution_count": 19,
   "id": "eceeaac5-26f8-4082-bbc7-f73c105d31f0",
   "metadata": {},
   "outputs": [],
   "source": [
    "#One Hot Encode Map Ids to a np array \n",
    "#Expects a string and a list of maps\n",
    "#Uses the keys to create a new array\n",
    "def oneHotMaps(mapId: str, mapKeys: list) -> np.array:\n",
    "    if mapKeys.count(mapId) == 0:\n",
    "        mapKeys.append(mapId)\n",
    "    encodedList = np.zeros(len(mapKeys), dtype=int)\n",
    "    for index, key in enumerate(mapKeys):\n",
    "        if mapKeys[index] == mapId:\n",
    "            encodedList[index] = 1\n",
    "    return encodedList\n",
    "        \n",
    "#Expected Output: A NP Array that consists of as many zeros as there are unique maps\n",
    "#For a given match, that map's location in the np array is flipped to 1"
   ]
  },
  {
   "cell_type": "code",
   "execution_count": 21,
   "id": "5e1b0af2-1af2-452c-8da1-5464705edfce",
   "metadata": {},
   "outputs": [],
   "source": [
    "#Function that checks which of the teams each player is apart of\n",
    "def teamEncode(playerList: list):\n",
    "    encodedList = np.zeros(len(playerList), dtype=int)\n",
    "    for i, k in enumerate(playerList):\n",
    "        if k['teamId'] == 'BLUE':\n",
    "            encodedList[i] = 1\n",
    "    return encodedList\n",
    "        \n",
    "#Expected Output: NP array 10 long, each element acts as a player, and the value\n",
    "#of the element is either 0 for red or 1 for blue"
   ]
  },
  {
   "cell_type": "code",
   "execution_count": 22,
   "id": "31fe7b81-a135-4b47-a798-0e2ee6bfe827",
   "metadata": {},
   "outputs": [],
   "source": [
    "#Function that gets the character each player is playing for each team\n",
    "def charPerTeam(playerList: list) -> list:\n",
    "    charList = []\n",
    "    for i, k in enumerate(playerList):\n",
    "        charList.append(k['characterId'])\n",
    "    return charList\n",
    "#Expected Output: Two Arrays that contain the string values for each of the teams, \n",
    "#first array is red team second array is blue team"
   ]
  },
  {
   "cell_type": "code",
   "execution_count": 23,
   "id": "181bb95e-afc0-4f07-987b-6d341a1f3308",
   "metadata": {},
   "outputs": [],
   "source": [
    "def oneHotChar(charId: str) -> np.array:\n",
    "    characterReferenceList = [\"5f8d3a7f-467b-97f3-062c-13acf203c006\", \n",
    "                              \"f94c3b30-42be-e959-889c-5aa313dba261\",\n",
    "                              \"117ed9e3-49f3-6512-3ccf-0cada7e3823b\",\n",
    "                              \"320b2a48-4d9b-a075-30f1-1f93a9b638fa\",\n",
    "                              \"707eab51-4836-f488-046a-cda6bf494859\",\n",
    "                              \"eb93336a-449b-9c1b-0a54-a891f7921d69\",\n",
    "                              \"9f0d8ba9-4140-b941-57d3-a7ad57c6b417\",\n",
    "                              \"569fdd95-4d10-43ab-ca70-79becc718b46\",\n",
    "                              \"8e253930-4c05-31dd-1b6c-968525494517\",\n",
    "                              \"add6443a-41bd-e414-f6ad-e58d267f4e95\",\n",
    "                              \"a3bfb853-43b2-7238-a4f1-ad90e9e46bcc\",\n",
    "                              \"22697a3d-45bf-8dd7-4fec-84a9e28c69d7\",\n",
    "                              \"601dbbe7-43ce-be57-2a40-4abd24953621\",\n",
    "                              \"36FB82AF-409D-C0ED-4B49-57B1EB08FBD5\"\n",
    "                             ]\n",
    "    encodedList = np.zeros(len(characterReferenceList), dtype=int)\n",
    "    i = 0\n",
    "    for char in characterReferenceList:\n",
    "        if charId in char:\n",
    "            encodedList[i] = 1\n",
    "        i = i + 1\n",
    "    return encodedList\n",
    "#\tstd::string zero = \"5f8d3a7f-467b-97f3-062c-13acf203c006\"\n",
    "#\tstd::string one = \"f94c3b30-42be-e959-889c-5aa313dba261\"\n",
    "#\tstd::string two = \"117ed9e3-49f3-6512-3ccf-0cada7e3823b\"\n",
    "#\tstd::string three = \"320b2a48-4d9b-a075-30f1-1f93a9b638fa\"\n",
    "#\tstd::string four = \"707eab51-4836-f488-046a-cda6bf494859\"\n",
    "#\tstd::string five = \"eb93336a-449b-9c1b-0a54-a891f7921d69\"\n",
    "#\tstd::string six = \"9f0d8ba9-4140-b941-57d3-a7ad57c6b417\"\n",
    "#\tstd::string seven = \"569fdd95-4d10-43ab-ca70-79becc718b46\"\n",
    "#\tstd::string eight = \"8e253930-4c05-31dd-1b6c-968525494517\"\n",
    "#\tstd::string nine = \"add6443a-41bd-e414-f6ad-e58d267f4e95\"\n",
    "#\tstd::string ten = \"a3bfb853-43b2-7238-a4f1-ad90e9e46bcc\"\n",
    "#\tstd::string eleven = \"22697a3d-45bf-8dd7-4fec-84a9e28c69d7\"\n",
    "#\tstd::string twelve = \"601dbbe7-43ce-be57-2a40-4abd24953621\"\n",
    "#\tstd::string minusOne = \"36FB82AF-409D-C0ED-4B49-57B1EB08FBD5\""
   ]
  },
  {
   "cell_type": "code",
   "execution_count": 178,
   "id": "411fc15a-7b08-4f0c-ba6d-3bc712330d17",
   "metadata": {},
   "outputs": [],
   "source": [
    "#Function that gets a full encoded list of np arrays\n",
    "def teamChars(players: list) -> np.array:\n",
    "    teamPerPlayer = teamEncode(players)\n",
    "    #print(r\"Team Per Player: {}\".format(teamPerPlayer)) \n",
    "    redChars = np.zeros(14, dtype=int)\n",
    "    blueChars = np.zeros(14, dtype=int)\n",
    "    i = 0\n",
    "    for player in players:\n",
    "        charId = oneHotChar(player['characterId'])\n",
    "        #print(r\"One hot: {}\".format(charId))\n",
    "        if teamPerPlayer[i] == 0:\n",
    "            blueChars = blueChars + charId\n",
    "            #print(r\"blueChars: {}\".format(blueChars))\n",
    "        else:\n",
    "            redChars = redChars + charId\n",
    "            #print(r\"redChars: {}\".format(redChars))\n",
    "        i = i + 1\n",
    "    #print(redChars)\n",
    "    #print(blueChars)\n",
    "    resChars = np.zeros(28, dtype=int)\n",
    "    k = 0\n",
    "    for j in range(28):\n",
    "        if j > 13:\n",
    "            if k == 14:\n",
    "                k = 0\n",
    "            resChars[j] = blueChars[k]\n",
    "            k = k + 1\n",
    "        else:\n",
    "            resChars[j] = redChars[k]\n",
    "            k = k + 1\n",
    "    return resChars"
   ]
  },
  {
   "cell_type": "code",
   "execution_count": 276,
   "id": "4e99d43c-af94-4413-b54f-529b1e38a0cd",
   "metadata": {},
   "outputs": [],
   "source": [
    "#Function that takes the info from each of the previous arrays, and places each matches' info into a row, and each of the individual datapoints into columns of a np array\n",
    "def concatArrays(match: dict, maps: list) -> np.array:\n",
    "    res = np.zeros(1 + (len(maps)) + 28, dtype=int)\n",
    "    res[0] = getMatchWinner(match)\n",
    "    #winner = oneHotWinner(getMatchWinner(match))\n",
    "    mapId = oneHotMaps(match[\"matches\"][\"matchInfo\"][\"mapId\"], maps)\n",
    "    charIds = teamChars(match[\"matches\"][\"players\"])\n",
    "    #print(r\"Red, Blue, Draw: {}\".format(res[0]))\n",
    "    #print(r\"Map: {}\".format(mapId))\n",
    "    #print(r\"Chars: {}\".format(charIds))\n",
    "    #for k in range(len(winner)):\n",
    "    #    res[k] = winner[k]\n",
    "    resIndex = 1\n",
    "    for i in range(len(mapId)):\n",
    "        if mapId[i] == 1:\n",
    "            res[resIndex] = mapId[1]\n",
    "        resIndex = resIndex + 1\n",
    "    for j in range(len(charIds)):\n",
    "        res[resIndex] = charIds[j]\n",
    "        resIndex = resIndex + 1\n",
    "    return res\n",
    "    "
   ]
  },
  {
   "cell_type": "code",
   "execution_count": 277,
   "id": "0b47fd95-f44a-4b43-8eee-4c027fc0e2fe",
   "metadata": {},
   "outputs": [],
   "source": [
    "def formatDataToArrays(matches: dict, mapList: list) -> list:\n",
    "    resArrays = []\n",
    "    for match in range(matches.size):\n",
    "        res = concatArrays(matches[match], mapList)\n",
    "        #print(res)\n",
    "        resArrays.append(res)\n",
    "    return resArrays\n",
    "     "
   ]
  },
  {
   "cell_type": "code",
   "execution_count": 328,
   "id": "791904e7-1a38-4342-884a-0ee574d97041",
   "metadata": {},
   "outputs": [],
   "source": [
    "def gatherTrainingData() -> np.array:\n",
    "    m = pd.read_json(r'C:\\Users\\ynrob\\ValNet PyTesting\\test.json'.format(), orient='index')\n",
    "    matches = pd.DataFrame.from_dict(m)\n",
    "    mapList = getMaps(matches)\n",
    "    res = []\n",
    "    for i in range(11):\n",
    "        if i < 1: \n",
    "            continue\n",
    "        data = pd.read_json(r'C:\\Users\\ynrob\\ValNet PyTesting\\{}.json'.format(i), orient='index')\n",
    "        trainingData = pd.DataFrame.from_dict(data)\n",
    "        tempData = formatDataToArrays(trainingData, mapList)\n",
    "        for match in range(len(tempData)):\n",
    "            tmp = tempData[match]\n",
    "            res.append(tmp)\n",
    "        #res.append(formatDataToArrays(trainingData))\n",
    "    resData = np.array(res)\n",
    "    return resData"
   ]
  },
  {
   "cell_type": "code",
   "execution_count": 329,
   "id": "70a8ad80-671c-40ee-a4cb-e401fb5e6946",
   "metadata": {},
   "outputs": [],
   "source": [
    "trainingData = gatherTrainingData()"
   ]
  },
  {
   "cell_type": "code",
   "execution_count": 330,
   "id": "2213a069-bd3a-4905-bc2a-2a76540b937a",
   "metadata": {},
   "outputs": [
    {
     "data": {
      "text/plain": [
       "(1000, 36)"
      ]
     },
     "execution_count": 330,
     "metadata": {},
     "output_type": "execute_result"
    }
   ],
   "source": [
    "trainingData.shape"
   ]
  },
  {
   "cell_type": "code",
   "execution_count": 280,
   "id": "0dd1e910-ee0b-40ec-9fd0-21ad1723d130",
   "metadata": {},
   "outputs": [],
   "source": [
    "def gatherTestingData() -> np.array:\n",
    "    m = pd.read_json(r'C:\\Users\\ynrob\\ValNet PyTesting\\test.json'.format(), orient='index')\n",
    "    matches = pd.DataFrame.from_dict(m)\n",
    "    mapList = getMaps(matches)\n",
    "    res = []\n",
    "    testData = formatDataToArrays(matches, mapList)\n",
    "    for match in range(len(testData)):\n",
    "            tmp = testData[match]\n",
    "            res.append(tmp)\n",
    "    resData = np.array(res)\n",
    "    return resData"
   ]
  },
  {
   "cell_type": "code",
   "execution_count": 281,
   "id": "335eca46-46ec-401b-863b-5ab2a21c4f5b",
   "metadata": {},
   "outputs": [],
   "source": [
    "testData = gatherTestingData()"
   ]
  },
  {
   "cell_type": "code",
   "execution_count": 371,
   "id": "379dc2c3-7067-4279-8c54-c3aaf4eabc63",
   "metadata": {},
   "outputs": [],
   "source": [
    "m, n = trainingData.shape\n",
    "np.random.shuffle(trainingData)\n",
    "\n",
    "data_dev = testData.T\n",
    "Y_dev = data_dev[0]\n",
    "X_dev = data_dev[1:n]\n",
    "\n",
    "data_train = trainingData.T\n",
    "Y_train = data_train[0]\n",
    "X_train = data_train[1:n]\n"
   ]
  },
  {
   "cell_type": "code",
   "execution_count": 373,
   "id": "b7e94d5b-44b9-48b8-a80f-32fbcfbab48e",
   "metadata": {},
   "outputs": [],
   "source": [
    "def oneHot(Y):\n",
    "    oneHotY = np.zeros((Y.size, Y.max() +1))\n",
    "    oneHotY[np.arange(Y.size), Y] = 1\n",
    "    oneHotY = oneHotY.T\n",
    "    return oneHotY"
   ]
  },
  {
   "cell_type": "code",
   "execution_count": 439,
   "id": "11b5abc7-ac4c-48a2-9a37-3401bac2ba96",
   "metadata": {},
   "outputs": [],
   "source": [
    "def initParams():\n",
    "    W1 = np.random.rand(3, 35)\n",
    "    b1 = np.random.rand(3, 1)\n",
    "    W2 = np.random.rand(3, 3)\n",
    "    b2 = np.random.rand(3, 1)\n",
    "    return W1, b1, W2, b2\n",
    "\n",
    "def ReLU(Z):\n",
    "    return np.maximum(0, Z)\n",
    "    \n",
    "def softmax(Z):\n",
    "    return np.exp(Z) / np.sum(np.exp(Z))\n",
    "\n",
    "def forwardProp(W1, b1, W2, b2, X):\n",
    "    #print(W1.shape)\n",
    "    #print(b1.shape)\n",
    "    #print(X.shape)\n",
    "    #print(b1)\n",
    "    #print(W2.shape)\n",
    "    #print(b2.shape)\n",
    "    \n",
    "    Z1 = W1.dot(X) + b1\n",
    "    A1 = ReLU(Z1)\n",
    "    Z2 = W2.dot(A1) + b2\n",
    "    A2 = softmax(Z2)\n",
    "    return Z1, A1, Z2, A2\n",
    "    \n",
    "def derivReLU(Z) -> int:\n",
    "    return Z > 0\n",
    "    \n",
    "def backProp(Z1, A1, Z2, A2, W2, X, Y):\n",
    "    m = Y.size\n",
    "    oneHotY = oneHot(Y)\n",
    "    #print(oneHotY)\n",
    "    dZ2 = A2 - oneHotY\n",
    "    #print(dZ2)\n",
    "    dW2 = 1 / m * dZ2.dot(A1.T)\n",
    "    db2 = 1 / m * np.sum(dZ2,2)\n",
    "    #Changing np.sum(dZ2, 2) -> np.sum(dZ2, 1) -> np.sum(dZ2)\n",
    "    dZ1 = W2.T.dot(dZ2) * derivReLU(Z1)\n",
    "    dW1 = 1 / m * dZ1.dot(X.T)\n",
    "    db1 = 1 / m * np.sum(dZ2,2)\n",
    "    return dW1, db1, dW2, db2\n",
    "\n",
    "def updateParams(W1, b1, W2, b2, dW1, db1, dW2, db2, alpha):\n",
    "    W1 = W1 - alpha * dW1\n",
    "    b1 = b1 - alpha * db1\n",
    "    W2 = W2 - alpha * dW2\n",
    "    b2 = b2 - alpha * db2\n",
    "    #print(W1.shape)\n",
    "    #print(b1.shape)\n",
    "    #print(W2.shape)\n",
    "    #print(b2.shape)\n",
    "    return W1, b1, W2, b2"
   ]
  },
  {
   "cell_type": "code",
   "execution_count": 440,
   "id": "793cad3e-7465-44eb-bfb2-97b8b4ba9440",
   "metadata": {},
   "outputs": [],
   "source": [
    "def getPreds(A2):\n",
    "    return np.argmax(A2, 0)\n",
    "\n",
    "def getAcc(preds, Y):\n",
    "    #print(preds, Y)\n",
    "    return np.sum(preds == Y) / Y.size\n",
    "\n",
    "def gradDescent(X, Y, iters, alpha):\n",
    "    W1, b1, W2, b2 = initParams()\n",
    "    #print(W1)\n",
    "    #print(W1.shape)\n",
    "    #print(b1)\n",
    "    #print(b1.shape)\n",
    "    #print(W2)\n",
    "    #print(W2.shape)\n",
    "    #print(b2)\n",
    "    #print(b2.shape)\n",
    "    for i in range(iters):\n",
    "        Z1, A1, Z2, A2 = forwardProp(W1, b1, W2, b2, X)\n",
    "        dW1, db1, dW2, db2 = backProp(Z1, A1, Z2, A2, W2, X, Y)\n",
    "        W1, b1, W2, b2 = updateParams(W1, b1, W2, b2, dW1, db1, dW2, db2, alpha)\n",
    "        if i % 50 == 0:\n",
    "            print(\"Iteration Number: \", i)\n",
    "            print(\"Accuracy: \", getAcc(getPreds(A2), Y))\n",
    "    return W1, b1, W2, b2"
   ]
  },
  {
   "cell_type": "code",
   "execution_count": 441,
   "id": "0e9b3a1b-755d-4d24-827a-3a75f74a6b92",
   "metadata": {},
   "outputs": [
    {
     "ename": "AxisError",
     "evalue": "axis 2 is out of bounds for array of dimension 2",
     "output_type": "error",
     "traceback": [
      "\u001b[1;31m---------------------------------------------------------------------------\u001b[0m",
      "\u001b[1;31mAxisError\u001b[0m                                 Traceback (most recent call last)",
      "Input \u001b[1;32mIn [441]\u001b[0m, in \u001b[0;36m<cell line: 1>\u001b[1;34m()\u001b[0m\n\u001b[1;32m----> 1\u001b[0m W1, b1, W2, b2 \u001b[38;5;241m=\u001b[39m \u001b[43mgradDescent\u001b[49m\u001b[43m(\u001b[49m\u001b[43mX_train\u001b[49m\u001b[43m,\u001b[49m\u001b[43m \u001b[49m\u001b[43mY_train\u001b[49m\u001b[43m,\u001b[49m\u001b[43m \u001b[49m\u001b[38;5;241;43m101\u001b[39;49m\u001b[43m,\u001b[49m\u001b[43m \u001b[49m\u001b[38;5;241;43m0.01\u001b[39;49m\u001b[43m)\u001b[49m\n",
      "Input \u001b[1;32mIn [440]\u001b[0m, in \u001b[0;36mgradDescent\u001b[1;34m(X, Y, iters, alpha)\u001b[0m\n\u001b[0;32m     18\u001b[0m \u001b[38;5;28;01mfor\u001b[39;00m i \u001b[38;5;129;01min\u001b[39;00m \u001b[38;5;28mrange\u001b[39m(iters):\n\u001b[0;32m     19\u001b[0m     Z1, A1, Z2, A2 \u001b[38;5;241m=\u001b[39m forwardProp(W1, b1, W2, b2, X)\n\u001b[1;32m---> 20\u001b[0m     dW1, db1, dW2, db2 \u001b[38;5;241m=\u001b[39m \u001b[43mbackProp\u001b[49m\u001b[43m(\u001b[49m\u001b[43mZ1\u001b[49m\u001b[43m,\u001b[49m\u001b[43m \u001b[49m\u001b[43mA1\u001b[49m\u001b[43m,\u001b[49m\u001b[43m \u001b[49m\u001b[43mZ2\u001b[49m\u001b[43m,\u001b[49m\u001b[43m \u001b[49m\u001b[43mA2\u001b[49m\u001b[43m,\u001b[49m\u001b[43m \u001b[49m\u001b[43mW2\u001b[49m\u001b[43m,\u001b[49m\u001b[43m \u001b[49m\u001b[43mX\u001b[49m\u001b[43m,\u001b[49m\u001b[43m \u001b[49m\u001b[43mY\u001b[49m\u001b[43m)\u001b[49m\n\u001b[0;32m     21\u001b[0m     W1, b1, W2, b2 \u001b[38;5;241m=\u001b[39m updateParams(W1, b1, W2, b2, dW1, db1, dW2, db2, alpha)\n\u001b[0;32m     22\u001b[0m     \u001b[38;5;28;01mif\u001b[39;00m i \u001b[38;5;241m%\u001b[39m \u001b[38;5;241m50\u001b[39m \u001b[38;5;241m==\u001b[39m \u001b[38;5;241m0\u001b[39m:\n",
      "Input \u001b[1;32mIn [439]\u001b[0m, in \u001b[0;36mbackProp\u001b[1;34m(Z1, A1, Z2, A2, W2, X, Y)\u001b[0m\n\u001b[0;32m     36\u001b[0m \u001b[38;5;66;03m#print(dZ2)\u001b[39;00m\n\u001b[0;32m     37\u001b[0m dW2 \u001b[38;5;241m=\u001b[39m \u001b[38;5;241m1\u001b[39m \u001b[38;5;241m/\u001b[39m m \u001b[38;5;241m*\u001b[39m dZ2\u001b[38;5;241m.\u001b[39mdot(A1\u001b[38;5;241m.\u001b[39mT)\n\u001b[1;32m---> 38\u001b[0m db2 \u001b[38;5;241m=\u001b[39m \u001b[38;5;241m1\u001b[39m \u001b[38;5;241m/\u001b[39m m \u001b[38;5;241m*\u001b[39m \u001b[43mnp\u001b[49m\u001b[38;5;241;43m.\u001b[39;49m\u001b[43msum\u001b[49m\u001b[43m(\u001b[49m\u001b[43mdZ2\u001b[49m\u001b[43m,\u001b[49m\u001b[38;5;241;43m2\u001b[39;49m\u001b[43m)\u001b[49m\n\u001b[0;32m     39\u001b[0m \u001b[38;5;66;03m#Changing np.sum(dZ2, 2) -> np.sum(dZ2, 1) -> np.sum(dZ2)\u001b[39;00m\n\u001b[0;32m     40\u001b[0m dZ1 \u001b[38;5;241m=\u001b[39m W2\u001b[38;5;241m.\u001b[39mT\u001b[38;5;241m.\u001b[39mdot(dZ2) \u001b[38;5;241m*\u001b[39m derivReLU(Z1)\n",
      "File \u001b[1;32m<__array_function__ internals>:5\u001b[0m, in \u001b[0;36msum\u001b[1;34m(*args, **kwargs)\u001b[0m\n",
      "File \u001b[1;32m~\\anaconda3\\lib\\site-packages\\numpy\\core\\fromnumeric.py:2259\u001b[0m, in \u001b[0;36msum\u001b[1;34m(a, axis, dtype, out, keepdims, initial, where)\u001b[0m\n\u001b[0;32m   2256\u001b[0m         \u001b[38;5;28;01mreturn\u001b[39;00m out\n\u001b[0;32m   2257\u001b[0m     \u001b[38;5;28;01mreturn\u001b[39;00m res\n\u001b[1;32m-> 2259\u001b[0m \u001b[38;5;28;01mreturn\u001b[39;00m \u001b[43m_wrapreduction\u001b[49m\u001b[43m(\u001b[49m\u001b[43ma\u001b[49m\u001b[43m,\u001b[49m\u001b[43m \u001b[49m\u001b[43mnp\u001b[49m\u001b[38;5;241;43m.\u001b[39;49m\u001b[43madd\u001b[49m\u001b[43m,\u001b[49m\u001b[43m \u001b[49m\u001b[38;5;124;43m'\u001b[39;49m\u001b[38;5;124;43msum\u001b[39;49m\u001b[38;5;124;43m'\u001b[39;49m\u001b[43m,\u001b[49m\u001b[43m \u001b[49m\u001b[43maxis\u001b[49m\u001b[43m,\u001b[49m\u001b[43m \u001b[49m\u001b[43mdtype\u001b[49m\u001b[43m,\u001b[49m\u001b[43m \u001b[49m\u001b[43mout\u001b[49m\u001b[43m,\u001b[49m\u001b[43m \u001b[49m\u001b[43mkeepdims\u001b[49m\u001b[38;5;241;43m=\u001b[39;49m\u001b[43mkeepdims\u001b[49m\u001b[43m,\u001b[49m\n\u001b[0;32m   2260\u001b[0m \u001b[43m                      \u001b[49m\u001b[43minitial\u001b[49m\u001b[38;5;241;43m=\u001b[39;49m\u001b[43minitial\u001b[49m\u001b[43m,\u001b[49m\u001b[43m \u001b[49m\u001b[43mwhere\u001b[49m\u001b[38;5;241;43m=\u001b[39;49m\u001b[43mwhere\u001b[49m\u001b[43m)\u001b[49m\n",
      "File \u001b[1;32m~\\anaconda3\\lib\\site-packages\\numpy\\core\\fromnumeric.py:86\u001b[0m, in \u001b[0;36m_wrapreduction\u001b[1;34m(obj, ufunc, method, axis, dtype, out, **kwargs)\u001b[0m\n\u001b[0;32m     83\u001b[0m         \u001b[38;5;28;01melse\u001b[39;00m:\n\u001b[0;32m     84\u001b[0m             \u001b[38;5;28;01mreturn\u001b[39;00m reduction(axis\u001b[38;5;241m=\u001b[39maxis, out\u001b[38;5;241m=\u001b[39mout, \u001b[38;5;241m*\u001b[39m\u001b[38;5;241m*\u001b[39mpasskwargs)\n\u001b[1;32m---> 86\u001b[0m \u001b[38;5;28;01mreturn\u001b[39;00m ufunc\u001b[38;5;241m.\u001b[39mreduce(obj, axis, dtype, out, \u001b[38;5;241m*\u001b[39m\u001b[38;5;241m*\u001b[39mpasskwargs)\n",
      "\u001b[1;31mAxisError\u001b[0m: axis 2 is out of bounds for array of dimension 2"
     ]
    }
   ],
   "source": [
    "W1, b1, W2, b2 = gradDescent(X_train, Y_train, 101, 0.01)"
   ]
  },
  {
   "cell_type": "code",
   "execution_count": null,
   "id": "3eac262d-a4ae-452f-b175-dbe923372aa1",
   "metadata": {},
   "outputs": [],
   "source": []
  },
  {
   "cell_type": "code",
   "execution_count": null,
   "id": "0a51851e-eb23-4303-9373-6ec6894c4db1",
   "metadata": {},
   "outputs": [],
   "source": []
  }
 ],
 "metadata": {
  "kernelspec": {
   "display_name": "Python 3 (ipykernel)",
   "language": "python",
   "name": "python3"
  },
  "language_info": {
   "codemirror_mode": {
    "name": "ipython",
    "version": 3
   },
   "file_extension": ".py",
   "mimetype": "text/x-python",
   "name": "python",
   "nbconvert_exporter": "python",
   "pygments_lexer": "ipython3",
   "version": "3.9.7"
  }
 },
 "nbformat": 4,
 "nbformat_minor": 5
}
